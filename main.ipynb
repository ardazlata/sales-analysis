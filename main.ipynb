{
 "cells": [
  {
   "cell_type": "code",
   "execution_count": 13,
   "id": "initial_id",
   "metadata": {
    "collapsed": true,
    "ExecuteTime": {
     "end_time": "2023-09-16T21:19:37.317471900Z",
     "start_time": "2023-09-16T21:19:37.244128200Z"
    }
   },
   "outputs": [],
   "source": [
    "import pandas as pd\n",
    "import os\n",
    "import matplotlib.pyplot as plt"
   ]
  },
  {
   "cell_type": "markdown",
   "source": [
    "## Task 1: Merging 12 months of sales data into a single file"
   ],
   "metadata": {
    "collapsed": false
   },
   "id": "7da6fa63b76b99aa"
  },
  {
   "cell_type": "code",
   "execution_count": 14,
   "outputs": [],
   "source": [
    "files = [file for file in os.listdir('sales-data')]\n",
    "all_months_data = pd.DataFrame()\n",
    "\n",
    "for file in files:\n",
    "    df = pd.read_csv('sales-data/'+file)\n",
    "    all_months_data = pd.concat([all_months_data, df])\n",
    "\n",
    "all_months_data.to_csv('all_data.csv', index=False)"
   ],
   "metadata": {
    "collapsed": false,
    "ExecuteTime": {
     "end_time": "2023-09-16T21:19:38.221516Z",
     "start_time": "2023-09-16T21:19:37.260409Z"
    }
   },
   "id": "46088336e31729f4"
  },
  {
   "cell_type": "markdown",
   "source": [
    "## Read in updated dataframe"
   ],
   "metadata": {
    "collapsed": false
   },
   "id": "eb664dd0e2fc2f64"
  },
  {
   "cell_type": "code",
   "execution_count": 15,
   "outputs": [
    {
     "data": {
      "text/plain": "  Order ID                     Product Quantity Ordered Price Each  \\\n0   176558        USB-C Charging Cable                2      11.95   \n1      NaN                         NaN              NaN        NaN   \n2   176559  Bose SoundSport Headphones                1      99.99   \n3   176560                Google Phone                1        600   \n4   176560            Wired Headphones                1      11.99   \n\n       Order Date                      Purchase Address  \n0  04/19/19 08:46          917 1st St, Dallas, TX 75001  \n1             NaN                                   NaN  \n2  04/07/19 22:30     682 Chestnut St, Boston, MA 02215  \n3  04/12/19 14:38  669 Spruce St, Los Angeles, CA 90001  \n4  04/12/19 14:38  669 Spruce St, Los Angeles, CA 90001  ",
      "text/html": "<div>\n<style scoped>\n    .dataframe tbody tr th:only-of-type {\n        vertical-align: middle;\n    }\n\n    .dataframe tbody tr th {\n        vertical-align: top;\n    }\n\n    .dataframe thead th {\n        text-align: right;\n    }\n</style>\n<table border=\"1\" class=\"dataframe\">\n  <thead>\n    <tr style=\"text-align: right;\">\n      <th></th>\n      <th>Order ID</th>\n      <th>Product</th>\n      <th>Quantity Ordered</th>\n      <th>Price Each</th>\n      <th>Order Date</th>\n      <th>Purchase Address</th>\n    </tr>\n  </thead>\n  <tbody>\n    <tr>\n      <th>0</th>\n      <td>176558</td>\n      <td>USB-C Charging Cable</td>\n      <td>2</td>\n      <td>11.95</td>\n      <td>04/19/19 08:46</td>\n      <td>917 1st St, Dallas, TX 75001</td>\n    </tr>\n    <tr>\n      <th>1</th>\n      <td>NaN</td>\n      <td>NaN</td>\n      <td>NaN</td>\n      <td>NaN</td>\n      <td>NaN</td>\n      <td>NaN</td>\n    </tr>\n    <tr>\n      <th>2</th>\n      <td>176559</td>\n      <td>Bose SoundSport Headphones</td>\n      <td>1</td>\n      <td>99.99</td>\n      <td>04/07/19 22:30</td>\n      <td>682 Chestnut St, Boston, MA 02215</td>\n    </tr>\n    <tr>\n      <th>3</th>\n      <td>176560</td>\n      <td>Google Phone</td>\n      <td>1</td>\n      <td>600</td>\n      <td>04/12/19 14:38</td>\n      <td>669 Spruce St, Los Angeles, CA 90001</td>\n    </tr>\n    <tr>\n      <th>4</th>\n      <td>176560</td>\n      <td>Wired Headphones</td>\n      <td>1</td>\n      <td>11.99</td>\n      <td>04/12/19 14:38</td>\n      <td>669 Spruce St, Los Angeles, CA 90001</td>\n    </tr>\n  </tbody>\n</table>\n</div>"
     },
     "execution_count": 15,
     "metadata": {},
     "output_type": "execute_result"
    }
   ],
   "source": [
    "all_data = pd.read_csv('all_data.csv')\n",
    "all_data.head()"
   ],
   "metadata": {
    "collapsed": false,
    "ExecuteTime": {
     "end_time": "2023-09-16T21:19:38.571836300Z",
     "start_time": "2023-09-16T21:19:38.222521800Z"
    }
   },
   "id": "ab3e5d99a6f1576f"
  },
  {
   "cell_type": "code",
   "execution_count": 16,
   "outputs": [
    {
     "data": {
      "text/plain": "  Order ID                     Product Quantity Ordered Price Each  \\\n0   176558        USB-C Charging Cable                2      11.95   \n2   176559  Bose SoundSport Headphones                1      99.99   \n3   176560                Google Phone                1        600   \n4   176560            Wired Headphones                1      11.99   \n5   176561            Wired Headphones                1      11.99   \n\n       Order Date                      Purchase Address  \n0  04/19/19 08:46          917 1st St, Dallas, TX 75001  \n2  04/07/19 22:30     682 Chestnut St, Boston, MA 02215  \n3  04/12/19 14:38  669 Spruce St, Los Angeles, CA 90001  \n4  04/12/19 14:38  669 Spruce St, Los Angeles, CA 90001  \n5  04/30/19 09:27     333 8th St, Los Angeles, CA 90001  ",
      "text/html": "<div>\n<style scoped>\n    .dataframe tbody tr th:only-of-type {\n        vertical-align: middle;\n    }\n\n    .dataframe tbody tr th {\n        vertical-align: top;\n    }\n\n    .dataframe thead th {\n        text-align: right;\n    }\n</style>\n<table border=\"1\" class=\"dataframe\">\n  <thead>\n    <tr style=\"text-align: right;\">\n      <th></th>\n      <th>Order ID</th>\n      <th>Product</th>\n      <th>Quantity Ordered</th>\n      <th>Price Each</th>\n      <th>Order Date</th>\n      <th>Purchase Address</th>\n    </tr>\n  </thead>\n  <tbody>\n    <tr>\n      <th>0</th>\n      <td>176558</td>\n      <td>USB-C Charging Cable</td>\n      <td>2</td>\n      <td>11.95</td>\n      <td>04/19/19 08:46</td>\n      <td>917 1st St, Dallas, TX 75001</td>\n    </tr>\n    <tr>\n      <th>2</th>\n      <td>176559</td>\n      <td>Bose SoundSport Headphones</td>\n      <td>1</td>\n      <td>99.99</td>\n      <td>04/07/19 22:30</td>\n      <td>682 Chestnut St, Boston, MA 02215</td>\n    </tr>\n    <tr>\n      <th>3</th>\n      <td>176560</td>\n      <td>Google Phone</td>\n      <td>1</td>\n      <td>600</td>\n      <td>04/12/19 14:38</td>\n      <td>669 Spruce St, Los Angeles, CA 90001</td>\n    </tr>\n    <tr>\n      <th>4</th>\n      <td>176560</td>\n      <td>Wired Headphones</td>\n      <td>1</td>\n      <td>11.99</td>\n      <td>04/12/19 14:38</td>\n      <td>669 Spruce St, Los Angeles, CA 90001</td>\n    </tr>\n    <tr>\n      <th>5</th>\n      <td>176561</td>\n      <td>Wired Headphones</td>\n      <td>1</td>\n      <td>11.99</td>\n      <td>04/30/19 09:27</td>\n      <td>333 8th St, Los Angeles, CA 90001</td>\n    </tr>\n  </tbody>\n</table>\n</div>"
     },
     "execution_count": 16,
     "metadata": {},
     "output_type": "execute_result"
    }
   ],
   "source": [
    "all_data = all_data.dropna(how='all')\n",
    "all_data.head()"
   ],
   "metadata": {
    "collapsed": false,
    "ExecuteTime": {
     "end_time": "2023-09-16T21:19:38.667250700Z",
     "start_time": "2023-09-16T21:19:38.605356100Z"
    }
   },
   "id": "d224e59756b55a7e"
  },
  {
   "cell_type": "markdown",
   "source": [
    "### Add a Month Column"
   ],
   "metadata": {
    "collapsed": false
   },
   "id": "458acbcee6c4b9b"
  },
  {
   "cell_type": "code",
   "execution_count": 17,
   "outputs": [
    {
     "data": {
      "text/plain": "  Order ID                     Product Quantity Ordered Price Each  \\\n0   176558        USB-C Charging Cable                2      11.95   \n2   176559  Bose SoundSport Headphones                1      99.99   \n3   176560                Google Phone                1        600   \n4   176560            Wired Headphones                1      11.99   \n5   176561            Wired Headphones                1      11.99   \n\n       Order Date                      Purchase Address Month  \n0  04/19/19 08:46          917 1st St, Dallas, TX 75001    04  \n2  04/07/19 22:30     682 Chestnut St, Boston, MA 02215    04  \n3  04/12/19 14:38  669 Spruce St, Los Angeles, CA 90001    04  \n4  04/12/19 14:38  669 Spruce St, Los Angeles, CA 90001    04  \n5  04/30/19 09:27     333 8th St, Los Angeles, CA 90001    04  ",
      "text/html": "<div>\n<style scoped>\n    .dataframe tbody tr th:only-of-type {\n        vertical-align: middle;\n    }\n\n    .dataframe tbody tr th {\n        vertical-align: top;\n    }\n\n    .dataframe thead th {\n        text-align: right;\n    }\n</style>\n<table border=\"1\" class=\"dataframe\">\n  <thead>\n    <tr style=\"text-align: right;\">\n      <th></th>\n      <th>Order ID</th>\n      <th>Product</th>\n      <th>Quantity Ordered</th>\n      <th>Price Each</th>\n      <th>Order Date</th>\n      <th>Purchase Address</th>\n      <th>Month</th>\n    </tr>\n  </thead>\n  <tbody>\n    <tr>\n      <th>0</th>\n      <td>176558</td>\n      <td>USB-C Charging Cable</td>\n      <td>2</td>\n      <td>11.95</td>\n      <td>04/19/19 08:46</td>\n      <td>917 1st St, Dallas, TX 75001</td>\n      <td>04</td>\n    </tr>\n    <tr>\n      <th>2</th>\n      <td>176559</td>\n      <td>Bose SoundSport Headphones</td>\n      <td>1</td>\n      <td>99.99</td>\n      <td>04/07/19 22:30</td>\n      <td>682 Chestnut St, Boston, MA 02215</td>\n      <td>04</td>\n    </tr>\n    <tr>\n      <th>3</th>\n      <td>176560</td>\n      <td>Google Phone</td>\n      <td>1</td>\n      <td>600</td>\n      <td>04/12/19 14:38</td>\n      <td>669 Spruce St, Los Angeles, CA 90001</td>\n      <td>04</td>\n    </tr>\n    <tr>\n      <th>4</th>\n      <td>176560</td>\n      <td>Wired Headphones</td>\n      <td>1</td>\n      <td>11.99</td>\n      <td>04/12/19 14:38</td>\n      <td>669 Spruce St, Los Angeles, CA 90001</td>\n      <td>04</td>\n    </tr>\n    <tr>\n      <th>5</th>\n      <td>176561</td>\n      <td>Wired Headphones</td>\n      <td>1</td>\n      <td>11.99</td>\n      <td>04/30/19 09:27</td>\n      <td>333 8th St, Los Angeles, CA 90001</td>\n      <td>04</td>\n    </tr>\n  </tbody>\n</table>\n</div>"
     },
     "execution_count": 17,
     "metadata": {},
     "output_type": "execute_result"
    }
   ],
   "source": [
    "all_data['Month'] = all_data['Order Date'].str[0:2]\n",
    "all_data.head()"
   ],
   "metadata": {
    "collapsed": false,
    "ExecuteTime": {
     "end_time": "2023-09-16T21:19:38.707751400Z",
     "start_time": "2023-09-16T21:19:38.633361300Z"
    }
   },
   "id": "8a50017dad5eb064"
  },
  {
   "cell_type": "markdown",
   "source": [
    "### Convert columns to the correct type"
   ],
   "metadata": {
    "collapsed": false
   },
   "id": "a1cc319e235a9d51"
  },
  {
   "cell_type": "code",
   "execution_count": 18,
   "outputs": [
    {
     "data": {
      "text/plain": "      Order ID  Product  Quantity Ordered  Price Each  Order Date  \\\n519   Order ID  Product  Quantity Ordered  Price Each  Order Date   \n1149  Order ID  Product  Quantity Ordered  Price Each  Order Date   \n1155  Order ID  Product  Quantity Ordered  Price Each  Order Date   \n2878  Order ID  Product  Quantity Ordered  Price Each  Order Date   \n2893  Order ID  Product  Quantity Ordered  Price Each  Order Date   \n\n      Purchase Address Month  \n519   Purchase Address    Or  \n1149  Purchase Address    Or  \n1155  Purchase Address    Or  \n2878  Purchase Address    Or  \n2893  Purchase Address    Or  ",
      "text/html": "<div>\n<style scoped>\n    .dataframe tbody tr th:only-of-type {\n        vertical-align: middle;\n    }\n\n    .dataframe tbody tr th {\n        vertical-align: top;\n    }\n\n    .dataframe thead th {\n        text-align: right;\n    }\n</style>\n<table border=\"1\" class=\"dataframe\">\n  <thead>\n    <tr style=\"text-align: right;\">\n      <th></th>\n      <th>Order ID</th>\n      <th>Product</th>\n      <th>Quantity Ordered</th>\n      <th>Price Each</th>\n      <th>Order Date</th>\n      <th>Purchase Address</th>\n      <th>Month</th>\n    </tr>\n  </thead>\n  <tbody>\n    <tr>\n      <th>519</th>\n      <td>Order ID</td>\n      <td>Product</td>\n      <td>Quantity Ordered</td>\n      <td>Price Each</td>\n      <td>Order Date</td>\n      <td>Purchase Address</td>\n      <td>Or</td>\n    </tr>\n    <tr>\n      <th>1149</th>\n      <td>Order ID</td>\n      <td>Product</td>\n      <td>Quantity Ordered</td>\n      <td>Price Each</td>\n      <td>Order Date</td>\n      <td>Purchase Address</td>\n      <td>Or</td>\n    </tr>\n    <tr>\n      <th>1155</th>\n      <td>Order ID</td>\n      <td>Product</td>\n      <td>Quantity Ordered</td>\n      <td>Price Each</td>\n      <td>Order Date</td>\n      <td>Purchase Address</td>\n      <td>Or</td>\n    </tr>\n    <tr>\n      <th>2878</th>\n      <td>Order ID</td>\n      <td>Product</td>\n      <td>Quantity Ordered</td>\n      <td>Price Each</td>\n      <td>Order Date</td>\n      <td>Purchase Address</td>\n      <td>Or</td>\n    </tr>\n    <tr>\n      <th>2893</th>\n      <td>Order ID</td>\n      <td>Product</td>\n      <td>Quantity Ordered</td>\n      <td>Price Each</td>\n      <td>Order Date</td>\n      <td>Purchase Address</td>\n      <td>Or</td>\n    </tr>\n  </tbody>\n</table>\n</div>"
     },
     "execution_count": 18,
     "metadata": {},
     "output_type": "execute_result"
    }
   ],
   "source": [
    "# Find \"Ord\" & delete\n",
    "temp_df = all_data[all_data['Order Date'].str[0:2] == 'Or']\n",
    "temp_df.head()"
   ],
   "metadata": {
    "collapsed": false,
    "ExecuteTime": {
     "end_time": "2023-09-16T21:19:38.868081900Z",
     "start_time": "2023-09-16T21:19:38.758571900Z"
    }
   },
   "id": "b9bd6d3fb23c0c89"
  },
  {
   "cell_type": "code",
   "execution_count": 19,
   "outputs": [],
   "source": [
    "all_data = all_data[all_data['Order Date'].str[0:2] != 'Or']"
   ],
   "metadata": {
    "collapsed": false,
    "ExecuteTime": {
     "end_time": "2023-09-16T21:19:38.888316200Z",
     "start_time": "2023-09-16T21:19:38.789413900Z"
    }
   },
   "id": "b05dcf0e0a02c710"
  },
  {
   "cell_type": "code",
   "execution_count": 20,
   "outputs": [
    {
     "data": {
      "text/plain": "  Order ID                     Product Quantity Ordered Price Each  \\\n0   176558        USB-C Charging Cable                2      11.95   \n2   176559  Bose SoundSport Headphones                1      99.99   \n3   176560                Google Phone                1        600   \n4   176560            Wired Headphones                1      11.99   \n5   176561            Wired Headphones                1      11.99   \n\n       Order Date                      Purchase Address  Month  \n0  04/19/19 08:46          917 1st St, Dallas, TX 75001      4  \n2  04/07/19 22:30     682 Chestnut St, Boston, MA 02215      4  \n3  04/12/19 14:38  669 Spruce St, Los Angeles, CA 90001      4  \n4  04/12/19 14:38  669 Spruce St, Los Angeles, CA 90001      4  \n5  04/30/19 09:27     333 8th St, Los Angeles, CA 90001      4  ",
      "text/html": "<div>\n<style scoped>\n    .dataframe tbody tr th:only-of-type {\n        vertical-align: middle;\n    }\n\n    .dataframe tbody tr th {\n        vertical-align: top;\n    }\n\n    .dataframe thead th {\n        text-align: right;\n    }\n</style>\n<table border=\"1\" class=\"dataframe\">\n  <thead>\n    <tr style=\"text-align: right;\">\n      <th></th>\n      <th>Order ID</th>\n      <th>Product</th>\n      <th>Quantity Ordered</th>\n      <th>Price Each</th>\n      <th>Order Date</th>\n      <th>Purchase Address</th>\n      <th>Month</th>\n    </tr>\n  </thead>\n  <tbody>\n    <tr>\n      <th>0</th>\n      <td>176558</td>\n      <td>USB-C Charging Cable</td>\n      <td>2</td>\n      <td>11.95</td>\n      <td>04/19/19 08:46</td>\n      <td>917 1st St, Dallas, TX 75001</td>\n      <td>4</td>\n    </tr>\n    <tr>\n      <th>2</th>\n      <td>176559</td>\n      <td>Bose SoundSport Headphones</td>\n      <td>1</td>\n      <td>99.99</td>\n      <td>04/07/19 22:30</td>\n      <td>682 Chestnut St, Boston, MA 02215</td>\n      <td>4</td>\n    </tr>\n    <tr>\n      <th>3</th>\n      <td>176560</td>\n      <td>Google Phone</td>\n      <td>1</td>\n      <td>600</td>\n      <td>04/12/19 14:38</td>\n      <td>669 Spruce St, Los Angeles, CA 90001</td>\n      <td>4</td>\n    </tr>\n    <tr>\n      <th>4</th>\n      <td>176560</td>\n      <td>Wired Headphones</td>\n      <td>1</td>\n      <td>11.99</td>\n      <td>04/12/19 14:38</td>\n      <td>669 Spruce St, Los Angeles, CA 90001</td>\n      <td>4</td>\n    </tr>\n    <tr>\n      <th>5</th>\n      <td>176561</td>\n      <td>Wired Headphones</td>\n      <td>1</td>\n      <td>11.99</td>\n      <td>04/30/19 09:27</td>\n      <td>333 8th St, Los Angeles, CA 90001</td>\n      <td>4</td>\n    </tr>\n  </tbody>\n</table>\n</div>"
     },
     "execution_count": 20,
     "metadata": {},
     "output_type": "execute_result"
    }
   ],
   "source": [
    "all_data['Month'] = all_data['Month'].astype('int32')\n",
    "all_data.head()"
   ],
   "metadata": {
    "collapsed": false,
    "ExecuteTime": {
     "end_time": "2023-09-16T21:19:38.972344300Z",
     "start_time": "2023-09-16T21:19:38.890441300Z"
    }
   },
   "id": "313f5d219037a458"
  },
  {
   "cell_type": "markdown",
   "source": [
    "### Add a Sales Column"
   ],
   "metadata": {
    "collapsed": false
   },
   "id": "3f6c6fff6ec2c2e8"
  },
  {
   "cell_type": "code",
   "execution_count": 21,
   "outputs": [
    {
     "data": {
      "text/plain": "  Order ID                     Product  Quantity Ordered  Price Each  \\\n0   176558        USB-C Charging Cable                 2       11.95   \n2   176559  Bose SoundSport Headphones                 1       99.99   \n3   176560                Google Phone                 1      600.00   \n4   176560            Wired Headphones                 1       11.99   \n5   176561            Wired Headphones                 1       11.99   \n\n       Order Date                      Purchase Address  Month   Sales  \n0  04/19/19 08:46          917 1st St, Dallas, TX 75001      4   23.90  \n2  04/07/19 22:30     682 Chestnut St, Boston, MA 02215      4   99.99  \n3  04/12/19 14:38  669 Spruce St, Los Angeles, CA 90001      4  600.00  \n4  04/12/19 14:38  669 Spruce St, Los Angeles, CA 90001      4   11.99  \n5  04/30/19 09:27     333 8th St, Los Angeles, CA 90001      4   11.99  ",
      "text/html": "<div>\n<style scoped>\n    .dataframe tbody tr th:only-of-type {\n        vertical-align: middle;\n    }\n\n    .dataframe tbody tr th {\n        vertical-align: top;\n    }\n\n    .dataframe thead th {\n        text-align: right;\n    }\n</style>\n<table border=\"1\" class=\"dataframe\">\n  <thead>\n    <tr style=\"text-align: right;\">\n      <th></th>\n      <th>Order ID</th>\n      <th>Product</th>\n      <th>Quantity Ordered</th>\n      <th>Price Each</th>\n      <th>Order Date</th>\n      <th>Purchase Address</th>\n      <th>Month</th>\n      <th>Sales</th>\n    </tr>\n  </thead>\n  <tbody>\n    <tr>\n      <th>0</th>\n      <td>176558</td>\n      <td>USB-C Charging Cable</td>\n      <td>2</td>\n      <td>11.95</td>\n      <td>04/19/19 08:46</td>\n      <td>917 1st St, Dallas, TX 75001</td>\n      <td>4</td>\n      <td>23.90</td>\n    </tr>\n    <tr>\n      <th>2</th>\n      <td>176559</td>\n      <td>Bose SoundSport Headphones</td>\n      <td>1</td>\n      <td>99.99</td>\n      <td>04/07/19 22:30</td>\n      <td>682 Chestnut St, Boston, MA 02215</td>\n      <td>4</td>\n      <td>99.99</td>\n    </tr>\n    <tr>\n      <th>3</th>\n      <td>176560</td>\n      <td>Google Phone</td>\n      <td>1</td>\n      <td>600.00</td>\n      <td>04/12/19 14:38</td>\n      <td>669 Spruce St, Los Angeles, CA 90001</td>\n      <td>4</td>\n      <td>600.00</td>\n    </tr>\n    <tr>\n      <th>4</th>\n      <td>176560</td>\n      <td>Wired Headphones</td>\n      <td>1</td>\n      <td>11.99</td>\n      <td>04/12/19 14:38</td>\n      <td>669 Spruce St, Los Angeles, CA 90001</td>\n      <td>4</td>\n      <td>11.99</td>\n    </tr>\n    <tr>\n      <th>5</th>\n      <td>176561</td>\n      <td>Wired Headphones</td>\n      <td>1</td>\n      <td>11.99</td>\n      <td>04/30/19 09:27</td>\n      <td>333 8th St, Los Angeles, CA 90001</td>\n      <td>4</td>\n      <td>11.99</td>\n    </tr>\n  </tbody>\n</table>\n</div>"
     },
     "execution_count": 21,
     "metadata": {},
     "output_type": "execute_result"
    }
   ],
   "source": [
    "all_data['Quantity Ordered'] = pd.to_numeric(all_data['Quantity Ordered'])\n",
    "all_data['Price Each'] = pd.to_numeric(all_data['Price Each'])\n",
    "\n",
    "all_data['Sales'] = all_data['Quantity Ordered'] * all_data['Price Each']\n",
    "all_data.head()"
   ],
   "metadata": {
    "collapsed": false,
    "ExecuteTime": {
     "end_time": "2023-09-16T21:19:39.124368100Z",
     "start_time": "2023-09-16T21:19:38.928224500Z"
    }
   },
   "id": "b6643e3b6dcacd6"
  },
  {
   "cell_type": "markdown",
   "source": [
    "## What was the best month for sales? How much was earned that month?"
   ],
   "metadata": {
    "collapsed": false
   },
   "id": "42e2e281b603687e"
  },
  {
   "cell_type": "code",
   "execution_count": 22,
   "outputs": [
    {
     "data": {
      "text/plain": "                                                Order ID  \\\nMonth                                                      \n1      2971502978172978172979692983442990492991253003...   \n2      1505021505031505041505051505061505071505081505...   \n3      1505331505411508121517491520361532841535441538...   \n4      1765581765591765601765601765611765621765631765...   \n5      1769781775511777781777781790761790761791341800...   \n6      2099212099222099232099242099252099262099272099...   \n7      2229102229112229122229132229142229152229162229...   \n8      2366702366712366722366732366742366752366762366...   \n9      2388342392852406362410542423432428652436672449...   \n10     2593582593592593602593612593622593632593642593...   \n11     2787972787982787992788002788012788022788032788...   \n12     2956652956662956672956682956692956702956712956...   \n\n                                                 Product  Quantity Ordered  \\\nMonth                                                                        \n1      Lightning Charging CableiPhoneLightning Chargi...             10903   \n2      iPhoneAA Batteries (4-pack)27in 4K Gaming Moni...             13449   \n3      AAA Batteries (4-pack)AAA Batteries (4-pack)Wi...             17005   \n4      USB-C Charging CableBose SoundSport Headphones...             20558   \n5      Apple Airpods Headphones27in FHD MonitoriPhone...             18667   \n6      USB-C Charging CableMacbook Pro LaptopThinkPad...             15253   \n7      Apple Airpods HeadphonesFlatscreen TVAA Batter...             16072   \n8      Wired HeadphonesBose SoundSport HeadphonesiPho...             13448   \n9      Apple Airpods Headphones34in Ultrawide Monitor...             13109   \n10     34in Ultrawide Monitor27in 4K Gaming MonitorAA...             22703   \n11     Wired HeadphonesUSB-C Charging CableApple Airp...             19798   \n12     Macbook Pro LaptopLG Washing MachineUSB-C Char...             28114   \n\n       Price Each                                         Order Date  \\\nMonth                                                                  \n1      1811768.38  01/01/20 00:3801/01/20 00:2201/01/20 00:2201/0...   \n2      2188884.72  02/18/19 01:3502/13/19 07:2402/18/19 09:4602/0...   \n3      2791207.83  03/01/19 03:0603/01/19 01:0303/01/19 02:1803/0...   \n4      3367671.02  04/19/19 08:4604/07/19 22:3004/12/19 14:3804/1...   \n5      3135125.13  05/01/19 03:2905/01/19 00:1305/01/19 00:4805/0...   \n6      2562025.61  06/23/19 19:3406/30/19 10:0506/24/19 20:1806/0...   \n7      2632539.56  07/26/19 16:5107/05/19 08:5507/29/19 12:4107/2...   \n8      2230345.42  08/31/19 22:2108/15/19 15:1108/06/19 14:4008/2...   \n9      2084992.09  09/01/19 04:1309/01/19 01:0909/01/19 02:0709/0...   \n10     3715554.83  10/28/19 10:5610/28/19 17:2610/24/19 17:2010/1...   \n11     3180600.68  11/21/19 09:5411/17/19 10:0311/19/19 14:5611/2...   \n12     4588415.41  12/30/19 00:0112/29/19 07:0312/12/19 18:2112/2...   \n\n                                        Purchase Address       Sales  \nMonth                                                                 \n1      427 Wilson St, Dallas, TX 75001519 13th St, Ne...  1822256.73  \n2      866 Spruce St, Portland, ME 0410118 13th St, S...  2202022.42  \n3      270 Dogwood St, San Francisco, CA 94016683 Ada...  2807100.38  \n4      917 1st St, Dallas, TX 75001682 Chestnut St, B...  3390670.24  \n5      589 Lake St, Portland, OR 97035615 Lincoln St,...  3152606.75  \n6      950 Walnut St, Portland, ME 0410180 4th St, Sa...  2577802.26  \n7      389 South St, Atlanta, GA 30301590 4th St, Sea...  2647775.76  \n8      359 Spruce St, Seattle, WA 98101492 Ridge St, ...  2244467.88  \n9      761 Forest St, San Francisco, CA 94016373 1st ...  2097560.13  \n10     609 Cherry St, Dallas, TX 75001225 5th St, Los...  3736726.88  \n11     46 Park St, New York City, NY 10001962 Hickory...  3199603.20  \n12     136 Church St, New York City, NY 10001562 2nd ...  4613443.34  ",
      "text/html": "<div>\n<style scoped>\n    .dataframe tbody tr th:only-of-type {\n        vertical-align: middle;\n    }\n\n    .dataframe tbody tr th {\n        vertical-align: top;\n    }\n\n    .dataframe thead th {\n        text-align: right;\n    }\n</style>\n<table border=\"1\" class=\"dataframe\">\n  <thead>\n    <tr style=\"text-align: right;\">\n      <th></th>\n      <th>Order ID</th>\n      <th>Product</th>\n      <th>Quantity Ordered</th>\n      <th>Price Each</th>\n      <th>Order Date</th>\n      <th>Purchase Address</th>\n      <th>Sales</th>\n    </tr>\n    <tr>\n      <th>Month</th>\n      <th></th>\n      <th></th>\n      <th></th>\n      <th></th>\n      <th></th>\n      <th></th>\n      <th></th>\n    </tr>\n  </thead>\n  <tbody>\n    <tr>\n      <th>1</th>\n      <td>2971502978172978172979692983442990492991253003...</td>\n      <td>Lightning Charging CableiPhoneLightning Chargi...</td>\n      <td>10903</td>\n      <td>1811768.38</td>\n      <td>01/01/20 00:3801/01/20 00:2201/01/20 00:2201/0...</td>\n      <td>427 Wilson St, Dallas, TX 75001519 13th St, Ne...</td>\n      <td>1822256.73</td>\n    </tr>\n    <tr>\n      <th>2</th>\n      <td>1505021505031505041505051505061505071505081505...</td>\n      <td>iPhoneAA Batteries (4-pack)27in 4K Gaming Moni...</td>\n      <td>13449</td>\n      <td>2188884.72</td>\n      <td>02/18/19 01:3502/13/19 07:2402/18/19 09:4602/0...</td>\n      <td>866 Spruce St, Portland, ME 0410118 13th St, S...</td>\n      <td>2202022.42</td>\n    </tr>\n    <tr>\n      <th>3</th>\n      <td>1505331505411508121517491520361532841535441538...</td>\n      <td>AAA Batteries (4-pack)AAA Batteries (4-pack)Wi...</td>\n      <td>17005</td>\n      <td>2791207.83</td>\n      <td>03/01/19 03:0603/01/19 01:0303/01/19 02:1803/0...</td>\n      <td>270 Dogwood St, San Francisco, CA 94016683 Ada...</td>\n      <td>2807100.38</td>\n    </tr>\n    <tr>\n      <th>4</th>\n      <td>1765581765591765601765601765611765621765631765...</td>\n      <td>USB-C Charging CableBose SoundSport Headphones...</td>\n      <td>20558</td>\n      <td>3367671.02</td>\n      <td>04/19/19 08:4604/07/19 22:3004/12/19 14:3804/1...</td>\n      <td>917 1st St, Dallas, TX 75001682 Chestnut St, B...</td>\n      <td>3390670.24</td>\n    </tr>\n    <tr>\n      <th>5</th>\n      <td>1769781775511777781777781790761790761791341800...</td>\n      <td>Apple Airpods Headphones27in FHD MonitoriPhone...</td>\n      <td>18667</td>\n      <td>3135125.13</td>\n      <td>05/01/19 03:2905/01/19 00:1305/01/19 00:4805/0...</td>\n      <td>589 Lake St, Portland, OR 97035615 Lincoln St,...</td>\n      <td>3152606.75</td>\n    </tr>\n    <tr>\n      <th>6</th>\n      <td>2099212099222099232099242099252099262099272099...</td>\n      <td>USB-C Charging CableMacbook Pro LaptopThinkPad...</td>\n      <td>15253</td>\n      <td>2562025.61</td>\n      <td>06/23/19 19:3406/30/19 10:0506/24/19 20:1806/0...</td>\n      <td>950 Walnut St, Portland, ME 0410180 4th St, Sa...</td>\n      <td>2577802.26</td>\n    </tr>\n    <tr>\n      <th>7</th>\n      <td>2229102229112229122229132229142229152229162229...</td>\n      <td>Apple Airpods HeadphonesFlatscreen TVAA Batter...</td>\n      <td>16072</td>\n      <td>2632539.56</td>\n      <td>07/26/19 16:5107/05/19 08:5507/29/19 12:4107/2...</td>\n      <td>389 South St, Atlanta, GA 30301590 4th St, Sea...</td>\n      <td>2647775.76</td>\n    </tr>\n    <tr>\n      <th>8</th>\n      <td>2366702366712366722366732366742366752366762366...</td>\n      <td>Wired HeadphonesBose SoundSport HeadphonesiPho...</td>\n      <td>13448</td>\n      <td>2230345.42</td>\n      <td>08/31/19 22:2108/15/19 15:1108/06/19 14:4008/2...</td>\n      <td>359 Spruce St, Seattle, WA 98101492 Ridge St, ...</td>\n      <td>2244467.88</td>\n    </tr>\n    <tr>\n      <th>9</th>\n      <td>2388342392852406362410542423432428652436672449...</td>\n      <td>Apple Airpods Headphones34in Ultrawide Monitor...</td>\n      <td>13109</td>\n      <td>2084992.09</td>\n      <td>09/01/19 04:1309/01/19 01:0909/01/19 02:0709/0...</td>\n      <td>761 Forest St, San Francisco, CA 94016373 1st ...</td>\n      <td>2097560.13</td>\n    </tr>\n    <tr>\n      <th>10</th>\n      <td>2593582593592593602593612593622593632593642593...</td>\n      <td>34in Ultrawide Monitor27in 4K Gaming MonitorAA...</td>\n      <td>22703</td>\n      <td>3715554.83</td>\n      <td>10/28/19 10:5610/28/19 17:2610/24/19 17:2010/1...</td>\n      <td>609 Cherry St, Dallas, TX 75001225 5th St, Los...</td>\n      <td>3736726.88</td>\n    </tr>\n    <tr>\n      <th>11</th>\n      <td>2787972787982787992788002788012788022788032788...</td>\n      <td>Wired HeadphonesUSB-C Charging CableApple Airp...</td>\n      <td>19798</td>\n      <td>3180600.68</td>\n      <td>11/21/19 09:5411/17/19 10:0311/19/19 14:5611/2...</td>\n      <td>46 Park St, New York City, NY 10001962 Hickory...</td>\n      <td>3199603.20</td>\n    </tr>\n    <tr>\n      <th>12</th>\n      <td>2956652956662956672956682956692956702956712956...</td>\n      <td>Macbook Pro LaptopLG Washing MachineUSB-C Char...</td>\n      <td>28114</td>\n      <td>4588415.41</td>\n      <td>12/30/19 00:0112/29/19 07:0312/12/19 18:2112/2...</td>\n      <td>136 Church St, New York City, NY 10001562 2nd ...</td>\n      <td>4613443.34</td>\n    </tr>\n  </tbody>\n</table>\n</div>"
     },
     "execution_count": 22,
     "metadata": {},
     "output_type": "execute_result"
    }
   ],
   "source": [
    "results_month = all_data.groupby('Month').sum()\n",
    "results_month"
   ],
   "metadata": {
    "collapsed": false,
    "ExecuteTime": {
     "end_time": "2023-09-16T21:19:43.806687200Z",
     "start_time": "2023-09-16T21:19:39.122244700Z"
    }
   },
   "id": "d0dca633a9a457e3"
  },
  {
   "cell_type": "code",
   "execution_count": 23,
   "outputs": [
    {
     "data": {
      "text/plain": "  Order ID                     Product  Quantity Ordered  Price Each  \\\n0   176558        USB-C Charging Cable                 2       11.95   \n2   176559  Bose SoundSport Headphones                 1       99.99   \n3   176560                Google Phone                 1      600.00   \n4   176560            Wired Headphones                 1       11.99   \n5   176561            Wired Headphones                 1       11.99   \n\n       Order Date                      Purchase Address  Month   Sales  \\\n0  04/19/19 08:46          917 1st St, Dallas, TX 75001      4   23.90   \n2  04/07/19 22:30     682 Chestnut St, Boston, MA 02215      4   99.99   \n3  04/12/19 14:38  669 Spruce St, Los Angeles, CA 90001      4  600.00   \n4  04/12/19 14:38  669 Spruce St, Los Angeles, CA 90001      4   11.99   \n5  04/30/19 09:27     333 8th St, Los Angeles, CA 90001      4   11.99   \n\n                City  \n0        Dallas (TX)  \n2        Boston (MA)  \n3   Los Angeles (CA)  \n4   Los Angeles (CA)  \n5   Los Angeles (CA)  ",
      "text/html": "<div>\n<style scoped>\n    .dataframe tbody tr th:only-of-type {\n        vertical-align: middle;\n    }\n\n    .dataframe tbody tr th {\n        vertical-align: top;\n    }\n\n    .dataframe thead th {\n        text-align: right;\n    }\n</style>\n<table border=\"1\" class=\"dataframe\">\n  <thead>\n    <tr style=\"text-align: right;\">\n      <th></th>\n      <th>Order ID</th>\n      <th>Product</th>\n      <th>Quantity Ordered</th>\n      <th>Price Each</th>\n      <th>Order Date</th>\n      <th>Purchase Address</th>\n      <th>Month</th>\n      <th>Sales</th>\n      <th>City</th>\n    </tr>\n  </thead>\n  <tbody>\n    <tr>\n      <th>0</th>\n      <td>176558</td>\n      <td>USB-C Charging Cable</td>\n      <td>2</td>\n      <td>11.95</td>\n      <td>04/19/19 08:46</td>\n      <td>917 1st St, Dallas, TX 75001</td>\n      <td>4</td>\n      <td>23.90</td>\n      <td>Dallas (TX)</td>\n    </tr>\n    <tr>\n      <th>2</th>\n      <td>176559</td>\n      <td>Bose SoundSport Headphones</td>\n      <td>1</td>\n      <td>99.99</td>\n      <td>04/07/19 22:30</td>\n      <td>682 Chestnut St, Boston, MA 02215</td>\n      <td>4</td>\n      <td>99.99</td>\n      <td>Boston (MA)</td>\n    </tr>\n    <tr>\n      <th>3</th>\n      <td>176560</td>\n      <td>Google Phone</td>\n      <td>1</td>\n      <td>600.00</td>\n      <td>04/12/19 14:38</td>\n      <td>669 Spruce St, Los Angeles, CA 90001</td>\n      <td>4</td>\n      <td>600.00</td>\n      <td>Los Angeles (CA)</td>\n    </tr>\n    <tr>\n      <th>4</th>\n      <td>176560</td>\n      <td>Wired Headphones</td>\n      <td>1</td>\n      <td>11.99</td>\n      <td>04/12/19 14:38</td>\n      <td>669 Spruce St, Los Angeles, CA 90001</td>\n      <td>4</td>\n      <td>11.99</td>\n      <td>Los Angeles (CA)</td>\n    </tr>\n    <tr>\n      <th>5</th>\n      <td>176561</td>\n      <td>Wired Headphones</td>\n      <td>1</td>\n      <td>11.99</td>\n      <td>04/30/19 09:27</td>\n      <td>333 8th St, Los Angeles, CA 90001</td>\n      <td>4</td>\n      <td>11.99</td>\n      <td>Los Angeles (CA)</td>\n    </tr>\n  </tbody>\n</table>\n</div>"
     },
     "execution_count": 23,
     "metadata": {},
     "output_type": "execute_result"
    }
   ],
   "source": [
    "# We need to add a city column\n",
    "# Let's use the .apply()\n",
    "\n",
    "all_data['City'] = all_data['Purchase Address'].apply(lambda x: x.split(',')[1] + ' (' + x.split(',')[2].split(' ')[1] + ')')\n",
    "all_data.head()"
   ],
   "metadata": {
    "collapsed": false,
    "ExecuteTime": {
     "end_time": "2023-09-16T21:19:44.071926800Z",
     "start_time": "2023-09-16T21:19:43.806687200Z"
    }
   },
   "id": "b653e985a231742f"
  },
  {
   "cell_type": "code",
   "execution_count": 24,
   "outputs": [
    {
     "data": {
      "text/plain": "<Figure size 640x480 with 1 Axes>",
      "image/png": "[encoded data removed]"
     },
     "metadata": {},
     "output_type": "display_data"
    }
   ],
   "source": [
    "months = range(1,13)\n",
    "plt.bar(months, results_month['Sales'])\n",
    "plt.xticks(months)\n",
    "plt.ylabel('Sales in USD ($)')\n",
    "plt.xlabel('Month number')\n",
    "plt.show()"
   ],
   "metadata": {
    "collapsed": false,
    "ExecuteTime": {
     "end_time": "2023-09-16T21:19:44.282751100Z",
     "start_time": "2023-09-16T21:19:44.049598200Z"
    }
   },
   "id": "c0f958b14f98d951"
  },
  {
   "cell_type": "markdown",
   "source": [
    "## What city sold the most product?"
   ],
   "metadata": {
    "collapsed": false
   },
   "id": "ba2f2470668bd3ed"
  },
  {
   "cell_type": "code",
   "execution_count": 26,
   "outputs": [
    {
     "data": {
      "text/plain": "                                                              Order ID  \\\nCity                                                                     \n Atlanta (GA)        1765641765711765821765891766231766271766341766...   \n Austin (TX)         1765911766091766741766771766861767011767051767...   \n Boston (MA)         1765591765661765781765811765851765851766001766...   \n Dallas (TX)         1765581765691765701765771765961766021766101766...   \n Los Angeles (CA)    1765601765601765611765671765741765741765761765...   \n New York City (NY)  1765721765751765791765901765991766131766371766...   \n Portland (ME)       1767731768791769091770721772301772331772991773...   \n Portland (OR)       1765831765931766171766421766461766481766621767...   \n San Francisco (CA)  1765621765651765731765841765861765861765941765...   \n Seattle (WA)        1765631765681765881766121766241766541766631766...   \n\n                                                               Product  \\\nCity                                                                     \n Atlanta (GA)        USB-C Charging CableLightning Charging CableBo...   \n Austin (TX)         Apple Airpods HeadphonesApple Airpods Headphon...   \n Boston (MA)         Bose SoundSport HeadphonesWired HeadphonesAppl...   \n Dallas (TX)         USB-C Charging Cable27in 4K Gaming MonitorAA B...   \n Los Angeles (CA)    Google PhoneWired HeadphonesWired HeadphonesGo...   \n New York City (NY)  Apple Airpods HeadphonesAAA Batteries (4-pack)...   \n Portland (ME)       AAA Batteries (4-pack)Flatscreen TVWired Headp...   \n Portland (OR)       AAA Batteries (4-pack)Lightning Charging Cable...   \n San Francisco (CA)  USB-C Charging CableMacbook Pro LaptopUSB-C Ch...   \n Seattle (WA)        Bose SoundSport HeadphonesLightning Charging C...   \n\n                     Quantity Ordered  Price Each  \\\nCity                                                \n Atlanta (GA)                   16602  2779908.20   \n Austin (TX)                    11153  1809873.61   \n Boston (MA)                    22528  3637409.77   \n Dallas (TX)                    16730  2752627.82   \n Los Angeles (CA)               33289  5421435.23   \n New York City (NY)             27932  4635370.83   \n Portland (ME)                   2750   447189.25   \n Portland (OR)                  11303  1860558.22   \n San Francisco (CA)             50239  8211461.74   \n Seattle (WA)                   16553  2733296.01   \n\n                                                            Order Date  \\\nCity                                                                     \n Atlanta (GA)        04/12/19 10:5804/19/19 14:2904/27/19 12:2004/0...   \n Austin (TX)         04/21/19 07:2104/11/19 16:5904/20/19 20:5304/0...   \n Boston (MA)         04/07/19 22:3004/08/19 14:0504/09/19 23:3504/0...   \n Dallas (TX)         04/19/19 08:4604/16/19 19:2304/22/19 15:0904/0...   \n Los Angeles (CA)    04/12/19 14:3804/12/19 14:3804/30/19 09:2704/1...   \n New York City (NY)  04/04/19 20:3004/27/19 00:3004/11/19 10:2304/1...   \n Portland (ME)       04/25/19 20:0704/13/19 14:1504/22/19 09:5304/0...   \n Portland (OR)       04/20/19 12:0004/15/19 13:4504/25/19 08:0304/1...   \n San Francisco (CA)  04/29/19 13:0304/24/19 10:3804/27/19 18:4104/2...   \n Seattle (WA)        04/02/19 07:4604/15/19 12:1804/02/19 04:0004/0...   \n\n                                                      Purchase Address  \\\nCity                                                                     \n Atlanta (GA)        790 Ridge St, Atlanta, GA 30301253 Johnson St,...   \n Austin (TX)         600 Maple St, Austin, TX 73301267 11th St, Aus...   \n Boston (MA)         682 Chestnut St, Boston, MA 0221583 7th St, Bo...   \n Dallas (TX)         917 1st St, Dallas, TX 75001657 Hill St, Dalla...   \n Los Angeles (CA)    669 Spruce St, Los Angeles, CA 90001669 Spruce...   \n New York City (NY)  149 Dogwood St, New York City, NY 10001433 Hil...   \n Portland (ME)       30 9th St, Portland, ME 04101370 Sunset St, Po...   \n Portland (OR)       146 Jackson St, Portland, OR 97035906 7th St, ...   \n San Francisco (CA)  381 Wilson St, San Francisco, CA 94016915 Will...   \n Seattle (WA)        668 Center St, Seattle, WA 98101438 Elm St, Se...   \n\n                      Month       Sales  \nCity                                     \n Atlanta (GA)        104794  2795498.58  \n Austin (TX)          69829  1819581.75  \n Boston (MA)         141112  3661642.01  \n Dallas (TX)         104620  2767975.40  \n Los Angeles (CA)    208325  5452570.80  \n New York City (NY)  175741  4664317.43  \n Portland (ME)        17144   449758.27  \n Portland (OR)        70621  1870732.34  \n San Francisco (CA)  315520  8262203.91  \n Seattle (WA)        104941  2747755.48  ",
      "text/html": "<div>\n<style scoped>\n    .dataframe tbody tr th:only-of-type {\n        vertical-align: middle;\n    }\n\n    .dataframe tbody tr th {\n        vertical-align: top;\n    }\n\n    .dataframe thead th {\n        text-align: right;\n    }\n</style>\n<table border=\"1\" class=\"dataframe\">\n  <thead>\n    <tr style=\"text-align: right;\">\n      <th></th>\n      <th>Order ID</th>\n      <th>Product</th>\n      <th>Quantity Ordered</th>\n      <th>Price Each</th>\n      <th>Order Date</th>\n      <th>Purchase Address</th>\n      <th>Month</th>\n      <th>Sales</th>\n    </tr>\n    <tr>\n      <th>City</th>\n      <th></th>\n      <th></th>\n      <th></th>\n      <th></th>\n      <th></th>\n      <th></th>\n      <th></th>\n      <th></th>\n    </tr>\n  </thead>\n  <tbody>\n    <tr>\n      <th>Atlanta (GA)</th>\n      <td>1765641765711765821765891766231766271766341766...</td>\n      <td>USB-C Charging CableLightning Charging CableBo...</td>\n      <td>16602</td>\n      <td>2779908.20</td>\n      <td>04/12/19 10:5804/19/19 14:2904/27/19 12:2004/0...</td>\n      <td>790 Ridge St, Atlanta, GA 30301253 Johnson St,...</td>\n      <td>104794</td>\n      <td>2795498.58</td>\n    </tr>\n    <tr>\n      <th>Austin (TX)</th>\n      <td>1765911766091766741766771766861767011767051767...</td>\n      <td>Apple Airpods HeadphonesApple Airpods Headphon...</td>\n      <td>11153</td>\n      <td>1809873.61</td>\n      <td>04/21/19 07:2104/11/19 16:5904/20/19 20:5304/0...</td>\n      <td>600 Maple St, Austin, TX 73301267 11th St, Aus...</td>\n      <td>69829</td>\n      <td>1819581.75</td>\n    </tr>\n    <tr>\n      <th>Boston (MA)</th>\n      <td>1765591765661765781765811765851765851766001766...</td>\n      <td>Bose SoundSport HeadphonesWired HeadphonesAppl...</td>\n      <td>22528</td>\n      <td>3637409.77</td>\n      <td>04/07/19 22:3004/08/19 14:0504/09/19 23:3504/0...</td>\n      <td>682 Chestnut St, Boston, MA 0221583 7th St, Bo...</td>\n      <td>141112</td>\n      <td>3661642.01</td>\n    </tr>\n    <tr>\n      <th>Dallas (TX)</th>\n      <td>1765581765691765701765771765961766021766101766...</td>\n      <td>USB-C Charging Cable27in 4K Gaming MonitorAA B...</td>\n      <td>16730</td>\n      <td>2752627.82</td>\n      <td>04/19/19 08:4604/16/19 19:2304/22/19 15:0904/0...</td>\n      <td>917 1st St, Dallas, TX 75001657 Hill St, Dalla...</td>\n      <td>104620</td>\n      <td>2767975.40</td>\n    </tr>\n    <tr>\n      <th>Los Angeles (CA)</th>\n      <td>1765601765601765611765671765741765741765761765...</td>\n      <td>Google PhoneWired HeadphonesWired HeadphonesGo...</td>\n      <td>33289</td>\n      <td>5421435.23</td>\n      <td>04/12/19 14:3804/12/19 14:3804/30/19 09:2704/1...</td>\n      <td>669 Spruce St, Los Angeles, CA 90001669 Spruce...</td>\n      <td>208325</td>\n      <td>5452570.80</td>\n    </tr>\n    <tr>\n      <th>New York City (NY)</th>\n      <td>1765721765751765791765901765991766131766371766...</td>\n      <td>Apple Airpods HeadphonesAAA Batteries (4-pack)...</td>\n      <td>27932</td>\n      <td>4635370.83</td>\n      <td>04/04/19 20:3004/27/19 00:3004/11/19 10:2304/1...</td>\n      <td>149 Dogwood St, New York City, NY 10001433 Hil...</td>\n      <td>175741</td>\n      <td>4664317.43</td>\n    </tr>\n    <tr>\n      <th>Portland (ME)</th>\n      <td>1767731768791769091770721772301772331772991773...</td>\n      <td>AAA Batteries (4-pack)Flatscreen TVWired Headp...</td>\n      <td>2750</td>\n      <td>447189.25</td>\n      <td>04/25/19 20:0704/13/19 14:1504/22/19 09:5304/0...</td>\n      <td>30 9th St, Portland, ME 04101370 Sunset St, Po...</td>\n      <td>17144</td>\n      <td>449758.27</td>\n    </tr>\n    <tr>\n      <th>Portland (OR)</th>\n      <td>1765831765931766171766421766461766481766621767...</td>\n      <td>AAA Batteries (4-pack)Lightning Charging Cable...</td>\n      <td>11303</td>\n      <td>1860558.22</td>\n      <td>04/20/19 12:0004/15/19 13:4504/25/19 08:0304/1...</td>\n      <td>146 Jackson St, Portland, OR 97035906 7th St, ...</td>\n      <td>70621</td>\n      <td>1870732.34</td>\n    </tr>\n    <tr>\n      <th>San Francisco (CA)</th>\n      <td>1765621765651765731765841765861765861765941765...</td>\n      <td>USB-C Charging CableMacbook Pro LaptopUSB-C Ch...</td>\n      <td>50239</td>\n      <td>8211461.74</td>\n      <td>04/29/19 13:0304/24/19 10:3804/27/19 18:4104/2...</td>\n      <td>381 Wilson St, San Francisco, CA 94016915 Will...</td>\n      <td>315520</td>\n      <td>8262203.91</td>\n    </tr>\n    <tr>\n      <th>Seattle (WA)</th>\n      <td>1765631765681765881766121766241766541766631766...</td>\n      <td>Bose SoundSport HeadphonesLightning Charging C...</td>\n      <td>16553</td>\n      <td>2733296.01</td>\n      <td>04/02/19 07:4604/15/19 12:1804/02/19 04:0004/0...</td>\n      <td>668 Center St, Seattle, WA 98101438 Elm St, Se...</td>\n      <td>104941</td>\n      <td>2747755.48</td>\n    </tr>\n  </tbody>\n</table>\n</div>"
     },
     "execution_count": 26,
     "metadata": {},
     "output_type": "execute_result"
    }
   ],
   "source": [
    "results_city = all_data.groupby('City').sum()\n",
    "results_city"
   ],
   "metadata": {
    "collapsed": false,
    "ExecuteTime": {
     "end_time": "2023-09-16T21:20:14.418021300Z",
     "start_time": "2023-09-16T21:19:58.591604400Z"
    }
   },
   "id": "eca16d9a576c05f1"
  },
  {
   "cell_type": "code",
   "execution_count": null,
   "outputs": [],
   "source": [],
   "metadata": {
    "collapsed": false,
    "ExecuteTime": {
     "start_time": "2023-09-16T21:19:44.314973600Z"
    }
   },
   "id": "a6f4c2a89ec43c90"
  }
 ],
 "metadata": {
  "kernelspec": {
   "display_name": "Python 3",
   "language": "python",
   "name": "python3"
  },
  "language_info": {
   "codemirror_mode": {
    "name": "ipython",
    "version": 2
   },
   "file_extension": ".py",
   "mimetype": "text/x-python",
   "name": "python",
   "nbconvert_exporter": "python",
   "pygments_lexer": "ipython2",
   "version": "2.7.6"
  }
 },
 "nbformat": 4,
 "nbformat_minor": 5
}
